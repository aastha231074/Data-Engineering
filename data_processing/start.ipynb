{
 "cells": [
  {
   "cell_type": "code",
   "execution_count": 2,
   "id": "fdd13902",
   "metadata": {},
   "outputs": [
    {
     "name": "stdout",
     "output_type": "stream",
     "text": [
      "<bound method NDFrame.head of      LabID  PatientID        TestName  Result NormalRange\n",
      "0        1        196  Blood Pressure    89.7     150-200\n",
      "1        2        165     Cholesterol   270.2       13-17\n",
      "2        3        182  Blood Pressure   268.0     0.6-1.2\n",
      "3        4        142     Cholesterol    57.3     150-200\n",
      "4        5         55     Blood Sugar   256.5      120/80\n",
      "..     ...        ...             ...     ...         ...\n",
      "195    196        176     Cholesterol   194.7      70-120\n",
      "196    197         72      Hemoglobin   159.7       20-50\n",
      "197    198         59  Blood Pressure   231.3      70-120\n",
      "198    199         82      Creatinine   171.7       13-17\n",
      "199    200        116      Hemoglobin   268.4     150-200\n",
      "\n",
      "[200 rows x 5 columns]>\n"
     ]
    }
   ],
   "source": [
    "import pandas as pd\n",
    "df = pd.read_csv(\"labs.csv\")\n",
    "print(df.head)"
   ]
  },
  {
   "cell_type": "code",
   "execution_count": 8,
   "id": "402bdc11",
   "metadata": {},
   "outputs": [
    {
     "name": "stdout",
     "output_type": "stream",
     "text": [
      "TestName\n",
      "Blood Pressure    37\n",
      "Blood Sugar       35\n",
      "Cholesterol       33\n",
      "Creatinine        28\n",
      "Hemoglobin        26\n",
      "Vitamin D         41\n",
      "Name: PatientID, dtype: int64\n"
     ]
    }
   ],
   "source": [
    "# count number of tests per patient\n",
    "print(df.groupby(\"TestName\")[\"PatientID\"].size())"
   ]
  },
  {
   "cell_type": "code",
   "execution_count": 10,
   "id": "bca56257",
   "metadata": {},
   "outputs": [
    {
     "name": "stdout",
     "output_type": "stream",
     "text": [
      "<bound method NDFrame.head of      LabID  PatientID        TestName  Result NormalRange\n",
      "0        1        196  Blood Pressure    89.7     150-200\n",
      "1        2        165     Cholesterol   270.2       13-17\n",
      "2        3        182  Blood Pressure   268.0     0.6-1.2\n",
      "3        4        142     Cholesterol    57.3     150-200\n",
      "4        5         55     Blood Sugar   256.5      120/80\n",
      "..     ...        ...             ...     ...         ...\n",
      "195    196        176     Cholesterol   194.7      70-120\n",
      "196    197         72      Hemoglobin   159.7       20-50\n",
      "197    198         59  Blood Pressure   231.3      70-120\n",
      "198    199         82      Creatinine   171.7       13-17\n",
      "199    200        116      Hemoglobin   268.4     150-200\n",
      "\n",
      "[200 rows x 5 columns]>\n"
     ]
    }
   ],
   "source": [
    "import dask.dataframe as dd  \n",
    "ddf = dd.read_csv(\"labs.csv\")\n",
    "print(df.head)"
   ]
  },
  {
   "cell_type": "code",
   "execution_count": 11,
   "id": "c28b05c1",
   "metadata": {},
   "outputs": [
    {
     "name": "stdout",
     "output_type": "stream",
     "text": [
      "Dask Series Structure:\n",
      "npartitions=1\n",
      "    int64\n",
      "      ...\n",
      "Dask Name: size, 4 expressions\n",
      "Expr=Size(frame=ArrowStringConversion(frame=FromMapProjectable(1cdc486))[['PatientID', 'TestName']], observed=False, _slice='PatientID')\n"
     ]
    }
   ],
   "source": [
    "# count number of tests per patient\n",
    "print(ddf.groupby(\"TestName\")[\"PatientID\"].size())"
   ]
  }
 ],
 "metadata": {
  "kernelspec": {
   "display_name": "Data-Engineering (3.11.9)",
   "language": "python",
   "name": "python3"
  },
  "language_info": {
   "codemirror_mode": {
    "name": "ipython",
    "version": 3
   },
   "file_extension": ".py",
   "mimetype": "text/x-python",
   "name": "python",
   "nbconvert_exporter": "python",
   "pygments_lexer": "ipython3",
   "version": "3.11.9"
  }
 },
 "nbformat": 4,
 "nbformat_minor": 5
}
